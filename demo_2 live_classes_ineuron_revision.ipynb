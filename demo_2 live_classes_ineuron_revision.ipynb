{
 "cells": [
  {
   "cell_type": "code",
   "execution_count": 1,
   "id": "40b47ec3",
   "metadata": {},
   "outputs": [],
   "source": [
    "def is_leap():\n",
    "    leap = False\n",
    "    if (year % 4 == 0 and year % 100 != 0) or year % 400 == 0:\n",
    "        leap = True\n",
    "    return leap"
   ]
  },
  {
   "cell_type": "markdown",
   "id": "7112c7a0",
   "metadata": {},
   "source": [
    "# print statement"
   ]
  },
  {
   "cell_type": "code",
   "execution_count": 2,
   "id": "429b8e37",
   "metadata": {},
   "outputs": [
    {
     "name": "stdout",
     "output_type": "stream",
     "text": [
      "greetings from iNeuron\n",
      "Good Evening\n"
     ]
    }
   ],
   "source": [
    "print(\"greetings from iNeuron\")\n",
    "print(\"Good Evening\")"
   ]
  },
  {
   "cell_type": "code",
   "execution_count": 3,
   "id": "611f5f10",
   "metadata": {},
   "outputs": [
    {
     "name": "stdout",
     "output_type": "stream",
     "text": [
      "greetings from iNeuron\n",
      "Good Evening\n"
     ]
    }
   ],
   "source": [
    "print('greetings from iNeuron')\n",
    "print(\"Good Evening\")"
   ]
  },
  {
   "cell_type": "code",
   "execution_count": 4,
   "id": "16ef10ea",
   "metadata": {},
   "outputs": [
    {
     "ename": "NameError",
     "evalue": "name 'Print' is not defined",
     "output_type": "error",
     "traceback": [
      "\u001b[1;31m---------------------------------------------------------------------------\u001b[0m",
      "\u001b[1;31mNameError\u001b[0m                                 Traceback (most recent call last)",
      "\u001b[1;32m<ipython-input-4-35ceb22ef007>\u001b[0m in \u001b[0;36m<module>\u001b[1;34m\u001b[0m\n\u001b[1;32m----> 1\u001b[1;33m \u001b[0mPrint\u001b[0m\u001b[1;33m(\u001b[0m\u001b[1;34m\"Good Evening\"\u001b[0m\u001b[1;33m)\u001b[0m\u001b[1;33m\u001b[0m\u001b[1;33m\u001b[0m\u001b[0m\n\u001b[0m",
      "\u001b[1;31mNameError\u001b[0m: name 'Print' is not defined"
     ]
    }
   ],
   "source": [
    "Print(\"Good Evening\")"
   ]
  },
  {
   "cell_type": "code",
   "execution_count": 5,
   "id": "122e6eb3",
   "metadata": {},
   "outputs": [
    {
     "ename": "SyntaxError",
     "evalue": "EOL while scanning string literal (<ipython-input-5-f065c2c370f4>, line 1)",
     "output_type": "error",
     "traceback": [
      "\u001b[1;36m  File \u001b[1;32m\"<ipython-input-5-f065c2c370f4>\"\u001b[1;36m, line \u001b[1;32m1\u001b[0m\n\u001b[1;33m    print(\"Good\u001b[0m\n\u001b[1;37m                ^\u001b[0m\n\u001b[1;31mSyntaxError\u001b[0m\u001b[1;31m:\u001b[0m EOL while scanning string literal\n"
     ]
    }
   ],
   "source": [
    "print(\"Good \n",
    "Evening\")"
   ]
  },
  {
   "cell_type": "code",
   "execution_count": 6,
   "id": "b6f85043",
   "metadata": {},
   "outputs": [
    {
     "data": {
      "text/plain": [
       "'Good evening'"
      ]
     },
     "execution_count": 6,
     "metadata": {},
     "output_type": "execute_result"
    }
   ],
   "source": [
    "\"Good evening\""
   ]
  },
  {
   "cell_type": "code",
   "execution_count": 7,
   "id": "c546db05",
   "metadata": {},
   "outputs": [
    {
     "name": "stdout",
     "output_type": "stream",
     "text": [
      "HI\n"
     ]
    }
   ],
   "source": [
    "\"Good morning\"\n",
    "print(\"HI\")"
   ]
  },
  {
   "cell_type": "code",
   "execution_count": 8,
   "id": "5d953912",
   "metadata": {},
   "outputs": [
    {
     "name": "stdout",
     "output_type": "stream",
     "text": [
      "Good \n",
      "Evening\n"
     ]
    }
   ],
   "source": [
    "print(\"\"\"Good \n",
    "Evening\"\"\")"
   ]
  },
  {
   "cell_type": "code",
   "execution_count": 9,
   "id": "34110523",
   "metadata": {},
   "outputs": [
    {
     "name": "stdout",
     "output_type": "stream",
     "text": [
      "India, officially the Republic of India (Hindi: Bhārat Gaṇarājya),[26] is a country in South Asia. It is the seventh-largest country by area, the second-most populous country, and the most populous democracy in the world. Bounded by the Indian Ocean on the south, the Arabian Sea on the southwest, and the Bay of Bengal on the southeast, it shares land borders with Pakistan to the west;[f] China, Nepal, and Bhutan to the north; and Bangladesh and Myanmar to the east. In the Indian Ocean, India is in the vicinity of Sri Lanka and the Maldives; its Andaman and Nicobar Islands share a maritime border with Thailand, Myanmar, and Indonesia. The nation's capital city is New Delhi.\n",
      "\n",
      "Modern humans arrived on the Indian subcontinent from Africa no later than 55,000 years ago.[27][28][29] Their long occupation, initially in varying forms of isolation as hunter-gatherers, has made the region highly diverse, second only to Africa in human genetic diversity.[30] Settled life emerged on the subcontinent in the western margins of the Indus river basin 9,000 years ago, evolving gradually into the Indus Valley Civilisation of the third millennium BCE.[31] By 1200 BCE, an archaic form of Sanskrit, an Indo-European language, had diffused into India from the northwest.[32][33] Its evidence today is found in the hymns of the Rigveda. Preserved by a resolutely vigilant oral tradition, the Rigveda records the dawning of Hinduism in India.[34] The Dravidian languages of India were supplanted in the northern and western regions.[35] By 400 BCE, \n"
     ]
    }
   ],
   "source": [
    "print(\"\"\"India, officially the Republic of India (Hindi: Bhārat Gaṇarājya),[26] is a country in South Asia. It is the seventh-largest country by area, the second-most populous country, and the most populous democracy in the world. Bounded by the Indian Ocean on the south, the Arabian Sea on the southwest, and the Bay of Bengal on the southeast, it shares land borders with Pakistan to the west;[f] China, Nepal, and Bhutan to the north; and Bangladesh and Myanmar to the east. In the Indian Ocean, India is in the vicinity of Sri Lanka and the Maldives; its Andaman and Nicobar Islands share a maritime border with Thailand, Myanmar, and Indonesia. The nation's capital city is New Delhi.\n",
    "\n",
    "Modern humans arrived on the Indian subcontinent from Africa no later than 55,000 years ago.[27][28][29] Their long occupation, initially in varying forms of isolation as hunter-gatherers, has made the region highly diverse, second only to Africa in human genetic diversity.[30] Settled life emerged on the subcontinent in the western margins of the Indus river basin 9,000 years ago, evolving gradually into the Indus Valley Civilisation of the third millennium BCE.[31] By 1200 BCE, an archaic form of Sanskrit, an Indo-European language, had diffused into India from the northwest.[32][33] Its evidence today is found in the hymns of the Rigveda. Preserved by a resolutely vigilant oral tradition, the Rigveda records the dawning of Hinduism in India.[34] The Dravidian languages of India were supplanted in the northern and western regions.[35] By 400 BCE, \"\"\")"
   ]
  },
  {
   "cell_type": "code",
   "execution_count": 10,
   "id": "54e9ee08",
   "metadata": {},
   "outputs": [
    {
     "name": "stdout",
     "output_type": "stream",
     "text": [
      "Good \n",
      "Evening\n",
      "from\n",
      "India\n"
     ]
    }
   ],
   "source": [
    "print(\"\"\"Good \n",
    "Evening\n",
    "from\n",
    "India\"\"\")"
   ]
  },
  {
   "cell_type": "markdown",
   "id": "67967541",
   "metadata": {},
   "source": [
    "# Comments"
   ]
  },
  {
   "cell_type": "code",
   "execution_count": 11,
   "id": "5e0e7d72",
   "metadata": {},
   "outputs": [
    {
     "name": "stdout",
     "output_type": "stream",
     "text": [
      "Hi Students\n"
     ]
    }
   ],
   "source": [
    "# say hello to the students\n",
    "print(\"Hi Students\")"
   ]
  },
  {
   "cell_type": "code",
   "execution_count": 12,
   "id": "7770a2af",
   "metadata": {},
   "outputs": [],
   "source": [
    "# say hello to the students\n",
    "# print(\"Hi Students\")"
   ]
  },
  {
   "cell_type": "markdown",
   "id": "2f7bf8a5",
   "metadata": {},
   "source": [
    "# Multi Line Comments"
   ]
  },
  {
   "cell_type": "code",
   "execution_count": 13,
   "id": "a3b3d3ec",
   "metadata": {},
   "outputs": [
    {
     "data": {
      "text/plain": [
       "'\\nSay Hi\\nTo the students\\n'"
      ]
     },
     "execution_count": 13,
     "metadata": {},
     "output_type": "execute_result"
    }
   ],
   "source": [
    "\"\"\"\n",
    "Say Hi\n",
    "To the students\n",
    "\"\"\""
   ]
  },
  {
   "cell_type": "code",
   "execution_count": 14,
   "id": "3012f820",
   "metadata": {},
   "outputs": [
    {
     "name": "stdout",
     "output_type": "stream",
     "text": [
      "Hi Students\n"
     ]
    }
   ],
   "source": [
    "\"\"\"\n",
    "Say Hi\n",
    "To the students\n",
    "\"\"\"\n",
    "print('Hi Students')"
   ]
  },
  {
   "cell_type": "code",
   "execution_count": 18,
   "id": "7b4daa68",
   "metadata": {},
   "outputs": [
    {
     "name": "stdout",
     "output_type": "stream",
     "text": [
      "Hi Students\n"
     ]
    }
   ],
   "source": [
    "# Say Hi\n",
    "# To the students\n",
    "\n",
    "print('Hi Students')"
   ]
  },
  {
   "cell_type": "code",
   "execution_count": 17,
   "id": "40be62cf",
   "metadata": {},
   "outputs": [
    {
     "ename": "SyntaxError",
     "evalue": "invalid syntax (<ipython-input-17-9f77a7710562>, line 1)",
     "output_type": "error",
     "traceback": [
      "\u001b[1;36m  File \u001b[1;32m\"<ipython-input-17-9f77a7710562>\"\u001b[1;36m, line \u001b[1;32m1\u001b[0m\n\u001b[1;33m    more exceptional cases in print statements\u001b[0m\n\u001b[1;37m         ^\u001b[0m\n\u001b[1;31mSyntaxError\u001b[0m\u001b[1;31m:\u001b[0m invalid syntax\n"
     ]
    }
   ],
   "source": [
    " more exceptional cases in print statements\n",
    "\n",
    "print(\"Hi my name is \"Sunny\" \")"
   ]
  },
  {
   "cell_type": "code",
   "execution_count": 16,
   "id": "f793fc67",
   "metadata": {},
   "outputs": [
    {
     "name": "stdout",
     "output_type": "stream",
     "text": [
      "Hi my name is \"Sunny\" \n"
     ]
    }
   ],
   "source": [
    "print(\"Hi my name is \\\"Sunny\\\" \")"
   ]
  },
  {
   "cell_type": "code",
   "execution_count": 19,
   "id": "eae6952f",
   "metadata": {},
   "outputs": [
    {
     "name": "stdout",
     "output_type": "stream",
     "text": [
      "Hi my name is \"Sunny\" \n"
     ]
    }
   ],
   "source": [
    "print('Hi my name is \"Sunny\" ')"
   ]
  },
  {
   "cell_type": "code",
   "execution_count": 21,
   "id": "2f00aa50",
   "metadata": {},
   "outputs": [
    {
     "name": "stdout",
     "output_type": "stream",
     "text": [
      "Hi my name is 'Sunny' \n"
     ]
    }
   ],
   "source": [
    "print(\"Hi my name is 'Sunny' \")"
   ]
  },
  {
   "cell_type": "code",
   "execution_count": 20,
   "id": "e119b4e0",
   "metadata": {},
   "outputs": [
    {
     "name": "stdout",
     "output_type": "stream",
     "text": [
      "Hi my name is \"Sunny\" \n"
     ]
    }
   ],
   "source": [
    "print(\"\"\"Hi my name is \"Sunny\" \"\"\")"
   ]
  },
  {
   "cell_type": "code",
   "execution_count": 22,
   "id": "b3876283",
   "metadata": {},
   "outputs": [
    {
     "name": "stdout",
     "output_type": "stream",
     "text": [
      "Hi my name is \"Sunny\"!\n"
     ]
    }
   ],
   "source": [
    "print(\"\"\"Hi my name is \"Sunny\"!\"\"\")"
   ]
  },
  {
   "cell_type": "markdown",
   "id": "f188a468",
   "metadata": {},
   "source": [
    "## Example [Shift + Enter]"
   ]
  },
  {
   "cell_type": "code",
   "execution_count": 24,
   "id": "9065b5a0",
   "metadata": {},
   "outputs": [
    {
     "data": {
      "text/plain": [
       "368"
      ]
     },
     "execution_count": 24,
     "metadata": {},
     "output_type": "execute_result"
    }
   ],
   "source": [
    "123+245 #sume of 2 nos"
   ]
  },
  {
   "cell_type": "code",
   "execution_count": 25,
   "id": "f0339aa8",
   "metadata": {},
   "outputs": [
    {
     "data": {
      "text/plain": [
       "30135"
      ]
     },
     "execution_count": 25,
     "metadata": {},
     "output_type": "execute_result"
    }
   ],
   "source": [
    "123*245"
   ]
  },
  {
   "cell_type": "code",
   "execution_count": 27,
   "id": "bfee7867",
   "metadata": {},
   "outputs": [
    {
     "data": {
      "text/plain": [
       "0.5020408163265306"
      ]
     },
     "execution_count": 27,
     "metadata": {},
     "output_type": "execute_result"
    }
   ],
   "source": [
    "123/245"
   ]
  },
  {
   "cell_type": "code",
   "execution_count": 28,
   "id": "9dc11d6f",
   "metadata": {},
   "outputs": [
    {
     "data": {
      "text/plain": [
       "15129"
      ]
     },
     "execution_count": 28,
     "metadata": {},
     "output_type": "execute_result"
    }
   ],
   "source": [
    "123**2 # power of 123 raised to 2"
   ]
  },
  {
   "cell_type": "code",
   "execution_count": 29,
   "id": "02cf1b8d",
   "metadata": {},
   "outputs": [
    {
     "data": {
      "text/plain": [
       "15129"
      ]
     },
     "execution_count": 29,
     "metadata": {},
     "output_type": "execute_result"
    }
   ],
   "source": [
    "(-123)**2 "
   ]
  },
  {
   "cell_type": "code",
   "execution_count": 30,
   "id": "ba7efb5e",
   "metadata": {},
   "outputs": [
    {
     "data": {
      "text/plain": [
       "1"
      ]
     },
     "execution_count": 30,
     "metadata": {},
     "output_type": "execute_result"
    }
   ],
   "source": [
    "123%2 # modulo operator which gives you reminder"
   ]
  },
  {
   "cell_type": "code",
   "execution_count": 33,
   "id": "c426ab66",
   "metadata": {},
   "outputs": [
    {
     "data": {
      "text/plain": [
       "0"
      ]
     },
     "execution_count": 33,
     "metadata": {},
     "output_type": "execute_result"
    }
   ],
   "source": [
    "2%2"
   ]
  },
  {
   "cell_type": "code",
   "execution_count": 35,
   "id": "45921fbf",
   "metadata": {},
   "outputs": [
    {
     "data": {
      "text/plain": [
       "1"
      ]
     },
     "execution_count": 35,
     "metadata": {},
     "output_type": "execute_result"
    }
   ],
   "source": [
    "3%2"
   ]
  },
  {
   "cell_type": "code",
   "execution_count": 36,
   "id": "edf0d118",
   "metadata": {},
   "outputs": [
    {
     "data": {
      "text/plain": [
       "0"
      ]
     },
     "execution_count": 36,
     "metadata": {},
     "output_type": "execute_result"
    }
   ],
   "source": [
    "122%2"
   ]
  },
  {
   "cell_type": "code",
   "execution_count": 40,
   "id": "e145e339",
   "metadata": {},
   "outputs": [
    {
     "name": "stdout",
     "output_type": "stream",
     "text": [
      "Result\n"
     ]
    }
   ],
   "source": [
    "123 *245\n",
    "print('Result')"
   ]
  },
  {
   "cell_type": "code",
   "execution_count": 41,
   "id": "c081776f",
   "metadata": {},
   "outputs": [
    {
     "name": "stdout",
     "output_type": "stream",
     "text": [
      "30135\n",
      "Result\n"
     ]
    }
   ],
   "source": [
    "print(123 * 245)\n",
    "print(\"Result\")"
   ]
  },
  {
   "cell_type": "code",
   "execution_count": 42,
   "id": "c51d8352",
   "metadata": {},
   "outputs": [
    {
     "name": "stdout",
     "output_type": "stream",
     "text": [
      "123 * 245\n",
      "Result\n"
     ]
    }
   ],
   "source": [
    "print(\"123 * 245\")\n",
    "print(\"Result\")"
   ]
  },
  {
   "cell_type": "markdown",
   "id": "6f069262",
   "metadata": {},
   "source": [
    "# Variables in python\n",
    "## Variables in python\n",
    "### Variables in python\n",
    "#### Variables in python\n",
    "##### Variables in python\n",
    "<h1>Variables in python</h1>"
   ]
  },
  {
   "cell_type": "code",
   "execution_count": 43,
   "id": "4cc43ee1",
   "metadata": {},
   "outputs": [
    {
     "name": "stdout",
     "output_type": "stream",
     "text": [
      "10\n"
     ]
    }
   ],
   "source": [
    "x = 10\n",
    "print(x)"
   ]
  },
  {
   "cell_type": "code",
   "execution_count": 44,
   "id": "14dc8fbf",
   "metadata": {},
   "outputs": [
    {
     "name": "stdout",
     "output_type": "stream",
     "text": [
      "20\n"
     ]
    }
   ],
   "source": [
    "y = 20\n",
    "print(y)"
   ]
  },
  {
   "cell_type": "code",
   "execution_count": 45,
   "id": "cc4fd730",
   "metadata": {},
   "outputs": [
    {
     "name": "stdout",
     "output_type": "stream",
     "text": [
      "30\n"
     ]
    }
   ],
   "source": [
    "print(x+y)"
   ]
  },
  {
   "cell_type": "code",
   "execution_count": 46,
   "id": "97683a46",
   "metadata": {},
   "outputs": [
    {
     "name": "stdout",
     "output_type": "stream",
     "text": [
      "0.5\n"
     ]
    }
   ],
   "source": [
    "print(x/y)"
   ]
  },
  {
   "cell_type": "markdown",
   "id": "1beacdea",
   "metadata": {},
   "source": [
    "1. Variable names should start with alphabets\n"
   ]
  },
  {
   "cell_type": "code",
   "execution_count": 48,
   "id": "91c3a79c",
   "metadata": {},
   "outputs": [],
   "source": [
    "ten = 10\n",
    "ten_number = 10\n",
    "tenNumber = 10"
   ]
  },
  {
   "cell_type": "markdown",
   "id": "0ac03ed7",
   "metadata": {},
   "source": [
    "2. Variable names should not contain any special characters like ^ % $ ! @ # ^ & * ( )"
   ]
  },
  {
   "cell_type": "code",
   "execution_count": 49,
   "id": "652ba363",
   "metadata": {},
   "outputs": [
    {
     "ename": "SyntaxError",
     "evalue": "invalid syntax (<ipython-input-49-186f8d3ec400>, line 1)",
     "output_type": "error",
     "traceback": [
      "\u001b[1;36m  File \u001b[1;32m\"<ipython-input-49-186f8d3ec400>\"\u001b[1;36m, line \u001b[1;32m1\u001b[0m\n\u001b[1;33m    ten* = 10\u001b[0m\n\u001b[1;37m         ^\u001b[0m\n\u001b[1;31mSyntaxError\u001b[0m\u001b[1;31m:\u001b[0m invalid syntax\n"
     ]
    }
   ],
   "source": [
    "ten* = 10"
   ]
  },
  {
   "cell_type": "code",
   "execution_count": 50,
   "id": "1e839570",
   "metadata": {},
   "outputs": [
    {
     "ename": "SyntaxError",
     "evalue": "cannot assign to operator (<ipython-input-50-3233643d8db9>, line 1)",
     "output_type": "error",
     "traceback": [
      "\u001b[1;36m  File \u001b[1;32m\"<ipython-input-50-3233643d8db9>\"\u001b[1;36m, line \u001b[1;32m1\u001b[0m\n\u001b[1;33m    ten%number = 10\u001b[0m\n\u001b[1;37m    ^\u001b[0m\n\u001b[1;31mSyntaxError\u001b[0m\u001b[1;31m:\u001b[0m cannot assign to operator\n"
     ]
    }
   ],
   "source": [
    "ten%number = 10"
   ]
  },
  {
   "cell_type": "code",
   "execution_count": 53,
   "id": "c76dbdba",
   "metadata": {},
   "outputs": [
    {
     "ename": "SyntaxError",
     "evalue": "cannot assign to operator (<ipython-input-53-400ff1eaa21e>, line 3)",
     "output_type": "error",
     "traceback": [
      "\u001b[1;36m  File \u001b[1;32m\"<ipython-input-53-400ff1eaa21e>\"\u001b[1;36m, line \u001b[1;32m3\u001b[0m\n\u001b[1;33m    ten%number = 10\u001b[0m\n\u001b[1;37m    ^\u001b[0m\n\u001b[1;31mSyntaxError\u001b[0m\u001b[1;31m:\u001b[0m cannot assign to operator\n"
     ]
    }
   ],
   "source": [
    "ten = 10\n",
    "ten_number = 10\n",
    "ten%number = 10\n",
    "tenNumber = 10"
   ]
  },
  {
   "cell_type": "code",
   "execution_count": 54,
   "id": "695d84ef",
   "metadata": {},
   "outputs": [
    {
     "ename": "SyntaxError",
     "evalue": "cannot assign to operator (<ipython-input-54-d4b8d6ed4cd3>, line 3)",
     "output_type": "error",
     "traceback": [
      "\u001b[1;36m  File \u001b[1;32m\"<ipython-input-54-d4b8d6ed4cd3>\"\u001b[1;36m, line \u001b[1;32m3\u001b[0m\n\u001b[1;33m    ten/number = 10\u001b[0m\n\u001b[1;37m    ^\u001b[0m\n\u001b[1;31mSyntaxError\u001b[0m\u001b[1;31m:\u001b[0m cannot assign to operator\n"
     ]
    }
   ],
   "source": [
    "ten = 10\n",
    "ten_number = 10\n",
    "ten/number = 10\n",
    "tenNumber = 10"
   ]
  },
  {
   "cell_type": "markdown",
   "id": "2359ed3c",
   "metadata": {},
   "source": [
    "3. Variable names can contain numbers but you can't start with numbers\n"
   ]
  },
  {
   "cell_type": "code",
   "execution_count": 57,
   "id": "45e83d5b",
   "metadata": {},
   "outputs": [],
   "source": [
    "ten10 = 10"
   ]
  },
  {
   "cell_type": "code",
   "execution_count": 58,
   "id": "0fd296e7",
   "metadata": {},
   "outputs": [
    {
     "ename": "SyntaxError",
     "evalue": "invalid syntax (<ipython-input-58-c508e1cc1cd5>, line 1)",
     "output_type": "error",
     "traceback": [
      "\u001b[1;36m  File \u001b[1;32m\"<ipython-input-58-c508e1cc1cd5>\"\u001b[1;36m, line \u001b[1;32m1\u001b[0m\n\u001b[1;33m    10ten = 10\u001b[0m\n\u001b[1;37m      ^\u001b[0m\n\u001b[1;31mSyntaxError\u001b[0m\u001b[1;31m:\u001b[0m invalid syntax\n"
     ]
    }
   ],
   "source": [
    "10ten = 10"
   ]
  },
  {
   "cell_type": "code",
   "execution_count": 59,
   "id": "a02c663e",
   "metadata": {},
   "outputs": [],
   "source": [
    "__num = 10 # hidden variable"
   ]
  },
  {
   "cell_type": "markdown",
   "id": "04eb8931",
   "metadata": {},
   "source": [
    "4. Its not a strict rule that you should variable names with a Captial letter. But its recommended to use small letters for the variables"
   ]
  },
  {
   "cell_type": "code",
   "execution_count": 60,
   "id": "17241f61",
   "metadata": {},
   "outputs": [],
   "source": [
    "Ten = 10"
   ]
  },
  {
   "cell_type": "code",
   "execution_count": 61,
   "id": "a32a23ca",
   "metadata": {},
   "outputs": [
    {
     "ename": "SyntaxError",
     "evalue": "invalid syntax (<ipython-input-61-91c87c3e0e8f>, line 1)",
     "output_type": "error",
     "traceback": [
      "\u001b[1;36m  File \u001b[1;32m\"<ipython-input-61-91c87c3e0e8f>\"\u001b[1;36m, line \u001b[1;32m1\u001b[0m\n\u001b[1;33m    ten number = 10\u001b[0m\n\u001b[1;37m        ^\u001b[0m\n\u001b[1;31mSyntaxError\u001b[0m\u001b[1;31m:\u001b[0m invalid syntax\n"
     ]
    }
   ],
   "source": [
    "ten number = 10"
   ]
  },
  {
   "cell_type": "code",
   "execution_count": 62,
   "id": "6fa7820b",
   "metadata": {},
   "outputs": [],
   "source": [
    "ten_number = 10"
   ]
  },
  {
   "cell_type": "code",
   "execution_count": 63,
   "id": "16a4ce10",
   "metadata": {},
   "outputs": [],
   "source": [
    "_ = 10 # dummy variable"
   ]
  },
  {
   "cell_type": "markdown",
   "id": "7e0d9226",
   "metadata": {},
   "source": [
    "# Fundamental data types"
   ]
  },
  {
   "cell_type": "markdown",
   "id": "89e7fcf9",
   "metadata": {},
   "source": [
    "# integers"
   ]
  },
  {
   "cell_type": "code",
   "execution_count": 64,
   "id": "f285fd08",
   "metadata": {},
   "outputs": [
    {
     "data": {
      "text/plain": [
       "int"
      ]
     },
     "execution_count": 64,
     "metadata": {},
     "output_type": "execute_result"
    }
   ],
   "source": [
    "a = 7\n",
    "type(a)"
   ]
  },
  {
   "cell_type": "code",
   "execution_count": 65,
   "id": "0fee93a7",
   "metadata": {},
   "outputs": [
    {
     "data": {
      "text/plain": [
       "int"
      ]
     },
     "execution_count": 65,
     "metadata": {},
     "output_type": "execute_result"
    }
   ],
   "source": [
    "b = 77777\n",
    "type(b)"
   ]
  },
  {
   "cell_type": "markdown",
   "id": "c0fade66",
   "metadata": {},
   "source": [
    "## floats - numbers containing decimal numbers"
   ]
  },
  {
   "cell_type": "code",
   "execution_count": 67,
   "id": "035f5e2a",
   "metadata": {},
   "outputs": [
    {
     "name": "stdout",
     "output_type": "stream",
     "text": [
      "3.14\n"
     ]
    },
    {
     "data": {
      "text/plain": [
       "float"
      ]
     },
     "execution_count": 67,
     "metadata": {},
     "output_type": "execute_result"
    }
   ],
   "source": [
    "pi = 3.14\n",
    "print(pi)\n",
    "type(pi)"
   ]
  },
  {
   "cell_type": "code",
   "execution_count": 71,
   "id": "30896fd5",
   "metadata": {},
   "outputs": [
    {
     "data": {
      "text/plain": [
       "3.142857142857143"
      ]
     },
     "execution_count": 71,
     "metadata": {},
     "output_type": "execute_result"
    }
   ],
   "source": [
    "pi = 22/7\n",
    "pi"
   ]
  },
  {
   "cell_type": "code",
   "execution_count": 72,
   "id": "e0d9e6eb",
   "metadata": {},
   "outputs": [
    {
     "data": {
      "text/plain": [
       "float"
      ]
     },
     "execution_count": 72,
     "metadata": {},
     "output_type": "execute_result"
    }
   ],
   "source": [
    "type(pi)"
   ]
  },
  {
   "cell_type": "code",
   "execution_count": 73,
   "id": "8c1075cf",
   "metadata": {},
   "outputs": [],
   "source": [
    "x = 2.0"
   ]
  },
  {
   "cell_type": "code",
   "execution_count": 74,
   "id": "15202f72",
   "metadata": {},
   "outputs": [
    {
     "data": {
      "text/plain": [
       "float"
      ]
     },
     "execution_count": 74,
     "metadata": {},
     "output_type": "execute_result"
    }
   ],
   "source": [
    "type(x)"
   ]
  },
  {
   "cell_type": "code",
   "execution_count": 75,
   "id": "fac5c86e",
   "metadata": {},
   "outputs": [
    {
     "data": {
      "text/plain": [
       "int"
      ]
     },
     "execution_count": 75,
     "metadata": {},
     "output_type": "execute_result"
    }
   ],
   "source": [
    "x = 2\n",
    "type(x)"
   ]
  },
  {
   "cell_type": "markdown",
   "id": "49502d2d",
   "metadata": {},
   "source": [
    "# Complex numbers"
   ]
  },
  {
   "cell_type": "code",
   "execution_count": 78,
   "id": "c9e2fb8f",
   "metadata": {},
   "outputs": [
    {
     "data": {
      "text/plain": [
       "(2+3j)"
      ]
     },
     "execution_count": 78,
     "metadata": {},
     "output_type": "execute_result"
    }
   ],
   "source": [
    "a = 2+3j\n",
    "a"
   ]
  },
  {
   "cell_type": "code",
   "execution_count": 79,
   "id": "85c16ffc",
   "metadata": {},
   "outputs": [
    {
     "data": {
      "text/plain": [
       "complex"
      ]
     },
     "execution_count": 79,
     "metadata": {},
     "output_type": "execute_result"
    }
   ],
   "source": [
    "type(a)"
   ]
  },
  {
   "cell_type": "code",
   "execution_count": 80,
   "id": "0d9bf339",
   "metadata": {},
   "outputs": [
    {
     "data": {
      "text/plain": [
       "2.0"
      ]
     },
     "execution_count": 80,
     "metadata": {},
     "output_type": "execute_result"
    }
   ],
   "source": [
    "a.real"
   ]
  },
  {
   "cell_type": "code",
   "execution_count": 83,
   "id": "c7dc2b08",
   "metadata": {},
   "outputs": [
    {
     "data": {
      "text/plain": [
       "3.0"
      ]
     },
     "execution_count": 83,
     "metadata": {},
     "output_type": "execute_result"
    }
   ],
   "source": [
    "a.imag"
   ]
  },
  {
   "cell_type": "markdown",
   "id": "225a99b9",
   "metadata": {},
   "source": [
    "## Dynamic typing"
   ]
  },
  {
   "cell_type": "markdown",
   "id": "5b69dd13",
   "metadata": {},
   "source": [
    "```\n",
    "int a = 22;\n",
    "```"
   ]
  },
  {
   "cell_type": "code",
   "execution_count": 84,
   "id": "51086f96",
   "metadata": {},
   "outputs": [
    {
     "data": {
      "text/plain": [
       "float"
      ]
     },
     "execution_count": 84,
     "metadata": {},
     "output_type": "execute_result"
    }
   ],
   "source": [
    "a = 22\n",
    "type(a)\n",
    "a = 22.2\n",
    "type(a)"
   ]
  },
  {
   "cell_type": "code",
   "execution_count": 85,
   "id": "67f192ee",
   "metadata": {},
   "outputs": [
    {
     "name": "stdout",
     "output_type": "stream",
     "text": [
      "<class 'int'>\n",
      "<class 'float'>\n",
      "<class 'str'>\n",
      "<class 'str'>\n"
     ]
    }
   ],
   "source": [
    "a = 22\n",
    "print(type(a))\n",
    "a = 22.2\n",
    "print(type(a))\n",
    "a = \"Sunny\" \n",
    "print(type(a))\n",
    "a = 'Sunny' \n",
    "print(type(a))"
   ]
  },
  {
   "cell_type": "code",
   "execution_count": 86,
   "id": "3572a97b",
   "metadata": {},
   "outputs": [
    {
     "name": "stdout",
     "output_type": "stream",
     "text": [
      "Sunny\n"
     ]
    }
   ],
   "source": [
    "print(a)"
   ]
  },
  {
   "cell_type": "code",
   "execution_count": 87,
   "id": "9de30830",
   "metadata": {},
   "outputs": [
    {
     "name": "stdout",
     "output_type": "stream",
     "text": [
      "<class 'int'>\n",
      "<class 'float'>\n",
      "<class 'str'>\n"
     ]
    }
   ],
   "source": [
    "a = 22\n",
    "print(type(a))\n",
    "a = 22.2\n",
    "print(type(a))\n",
    "a = \"22.2\" \n",
    "print(type(a))"
   ]
  },
  {
   "cell_type": "markdown",
   "id": "a160f9ff",
   "metadata": {},
   "source": [
    "# Strong typing"
   ]
  },
  {
   "cell_type": "code",
   "execution_count": 88,
   "id": "137d223d",
   "metadata": {},
   "outputs": [
    {
     "ename": "TypeError",
     "evalue": "can only concatenate str (not \"int\") to str",
     "output_type": "error",
     "traceback": [
      "\u001b[1;31m---------------------------------------------------------------------------\u001b[0m",
      "\u001b[1;31mTypeError\u001b[0m                                 Traceback (most recent call last)",
      "\u001b[1;32m<ipython-input-88-f9dbf96c2523>\u001b[0m in \u001b[0;36m<module>\u001b[1;34m\u001b[0m\n\u001b[1;32m----> 1\u001b[1;33m \u001b[1;34m\"Day \"\u001b[0m \u001b[1;33m+\u001b[0m \u001b[1;36m1\u001b[0m\u001b[1;33m\u001b[0m\u001b[1;33m\u001b[0m\u001b[0m\n\u001b[0m",
      "\u001b[1;31mTypeError\u001b[0m: can only concatenate str (not \"int\") to str"
     ]
    }
   ],
   "source": [
    "\"Day \" + 1"
   ]
  },
  {
   "cell_type": "code",
   "execution_count": 89,
   "id": "70eb7059",
   "metadata": {},
   "outputs": [
    {
     "data": {
      "text/plain": [
       "23.2"
      ]
     },
     "execution_count": 89,
     "metadata": {},
     "output_type": "execute_result"
    }
   ],
   "source": [
    "22.2 + 1"
   ]
  },
  {
   "cell_type": "code",
   "execution_count": 90,
   "id": "47e138ae",
   "metadata": {},
   "outputs": [
    {
     "data": {
      "text/plain": [
       "'Day 1'"
      ]
     },
     "execution_count": 90,
     "metadata": {},
     "output_type": "execute_result"
    }
   ],
   "source": [
    "\n",
    "\"Day \" + \"1\""
   ]
  },
  {
   "cell_type": "code",
   "execution_count": 91,
   "id": "6338fbcd",
   "metadata": {},
   "outputs": [
    {
     "data": {
      "text/plain": [
       "44"
      ]
     },
     "execution_count": 91,
     "metadata": {},
     "output_type": "execute_result"
    }
   ],
   "source": [
    "22 + 22"
   ]
  },
  {
   "cell_type": "code",
   "execution_count": 92,
   "id": "959d9569",
   "metadata": {},
   "outputs": [
    {
     "data": {
      "text/plain": [
       "'2222'"
      ]
     },
     "execution_count": 92,
     "metadata": {},
     "output_type": "execute_result"
    }
   ],
   "source": [
    "\"22\" + \"22\""
   ]
  },
  {
   "cell_type": "code",
   "execution_count": 94,
   "id": "d0eec683",
   "metadata": {},
   "outputs": [
    {
     "ename": "TypeError",
     "evalue": "can only concatenate str (not \"int\") to str",
     "output_type": "error",
     "traceback": [
      "\u001b[1;31m---------------------------------------------------------------------------\u001b[0m",
      "\u001b[1;31mTypeError\u001b[0m                                 Traceback (most recent call last)",
      "\u001b[1;32m<ipython-input-94-0de0c4d88848>\u001b[0m in \u001b[0;36m<module>\u001b[1;34m\u001b[0m\n\u001b[1;32m----> 1\u001b[1;33m \u001b[1;34m\"22\"\u001b[0m \u001b[1;33m+\u001b[0m \u001b[1;36m22\u001b[0m \u001b[1;31m#work only str to str\u001b[0m\u001b[1;33m\u001b[0m\u001b[1;33m\u001b[0m\u001b[0m\n\u001b[0m",
      "\u001b[1;31mTypeError\u001b[0m: can only concatenate str (not \"int\") to str"
     ]
    }
   ],
   "source": [
    "\"22\" + 22 #work only str to str"
   ]
  },
  {
   "cell_type": "code",
   "execution_count": 95,
   "id": "457399e9",
   "metadata": {},
   "outputs": [
    {
     "ename": "TypeError",
     "evalue": "unsupported operand type(s) for +: 'int' and 'str'",
     "output_type": "error",
     "traceback": [
      "\u001b[1;31m---------------------------------------------------------------------------\u001b[0m",
      "\u001b[1;31mTypeError\u001b[0m                                 Traceback (most recent call last)",
      "\u001b[1;32m<ipython-input-95-11469b07b681>\u001b[0m in \u001b[0;36m<module>\u001b[1;34m\u001b[0m\n\u001b[1;32m----> 1\u001b[1;33m \u001b[1;36m22\u001b[0m \u001b[1;33m+\u001b[0m \u001b[1;34m\"22\"\u001b[0m\u001b[1;33m\u001b[0m\u001b[1;33m\u001b[0m\u001b[0m\n\u001b[0m",
      "\u001b[1;31mTypeError\u001b[0m: unsupported operand type(s) for +: 'int' and 'str'"
     ]
    }
   ],
   "source": [
    "22 + \"22\""
   ]
  },
  {
   "cell_type": "code",
   "execution_count": 96,
   "id": "355b1535",
   "metadata": {},
   "outputs": [
    {
     "data": {
      "text/plain": [
       "'2222'"
      ]
     },
     "execution_count": 96,
     "metadata": {},
     "output_type": "execute_result"
    }
   ],
   "source": [
    "'22' + \"22\""
   ]
  },
  {
   "cell_type": "code",
   "execution_count": 97,
   "id": "4649174a",
   "metadata": {},
   "outputs": [
    {
     "data": {
      "text/plain": [
       "'Sunny Chandra'"
      ]
     },
     "execution_count": 97,
     "metadata": {},
     "output_type": "execute_result"
    }
   ],
   "source": [
    "\"Sunny \" + \"Chandra\""
   ]
  },
  {
   "cell_type": "code",
   "execution_count": 99,
   "id": "463b4a07",
   "metadata": {},
   "outputs": [],
   "source": [
    "a = 1 # int data type\n",
    "b = 1.2 # float data type\n",
    "c = \"Sunny\" # string data type \n",
    "f = 1 + 2j # complex data type # rarely used"
   ]
  },
  {
   "cell_type": "code",
   "execution_count": 100,
   "id": "13625710",
   "metadata": {},
   "outputs": [
    {
     "name": "stdout",
     "output_type": "stream",
     "text": [
      "Hi welcome to class of python language\n"
     ]
    }
   ],
   "source": [
    "print(\"Hi welcome to class of python language\")"
   ]
  },
  {
   "cell_type": "code",
   "execution_count": 101,
   "id": "64f211d8",
   "metadata": {},
   "outputs": [
    {
     "name": "stdout",
     "output_type": "stream",
     "text": [
      "Hi welcome to class of Java language\n"
     ]
    }
   ],
   "source": [
    "print(\"Hi welcome to class of Java language\")"
   ]
  },
  {
   "cell_type": "code",
   "execution_count": 102,
   "id": "1d9dd49a",
   "metadata": {},
   "outputs": [
    {
     "name": "stdout",
     "output_type": "stream",
     "text": [
      "Hi welcome to class of JavaScript language\n"
     ]
    }
   ],
   "source": [
    "language = \"JavaScript\"\n",
    "print(\"Hi welcome to class of \" + language + \" language\") # allowed but rarely used"
   ]
  },
  {
   "cell_type": "code",
   "execution_count": 103,
   "id": "f704ae4a",
   "metadata": {},
   "outputs": [
    {
     "name": "stdout",
     "output_type": "stream",
     "text": [
      "Hi welcome to class of JavaScript language\n"
     ]
    }
   ],
   "source": [
    "# f -> formatted string method\n",
    "language = \"JavaScript\"\n",
    "print(f\"Hi welcome to class of {language} language\") # current standard approach used in python"
   ]
  },
  {
   "cell_type": "code",
   "execution_count": 104,
   "id": "cd9d50b6",
   "metadata": {},
   "outputs": [
    {
     "name": "stdout",
     "output_type": "stream",
     "text": [
      "Hi welcome to class of JavaScript language\n"
     ]
    }
   ],
   "source": [
    "language = \"JavaScript\"\n",
    "print(\"Hi welcome to class of {} language\".format(language)) # old way"
   ]
  },
  {
   "cell_type": "code",
   "execution_count": 105,
   "id": "6663ad08",
   "metadata": {},
   "outputs": [
    {
     "name": "stdout",
     "output_type": "stream",
     "text": [
      "Hi welcome to class of {language} language\n"
     ]
    }
   ],
   "source": [
    "language = \"JavaScript\"\n",
    "print(\"Hi welcome to class of {language} language\")"
   ]
  },
  {
   "cell_type": "code",
   "execution_count": 106,
   "id": "7b016f02",
   "metadata": {},
   "outputs": [
    {
     "name": "stdout",
     "output_type": "stream",
     "text": [
      "Today is the first class of Python language\n"
     ]
    }
   ],
   "source": [
    "# f -> formatted string method\n",
    "num = \"first\"\n",
    "language = \"Python\"\n",
    "print(f\"Today is the {num} class of {language} language\") # current standard approach used in python"
   ]
  },
  {
   "cell_type": "code",
   "execution_count": 107,
   "id": "3cb12038",
   "metadata": {},
   "outputs": [
    {
     "name": "stdout",
     "output_type": "stream",
     "text": [
      "Today is the first class of Python language\n"
     ]
    }
   ],
   "source": [
    "num = \"first\"\n",
    "language = \"Python\"\n",
    "print(\"Today is the {} class of {} language\".format(num, language))\n"
   ]
  },
  {
   "cell_type": "code",
   "execution_count": 108,
   "id": "bd7d5437",
   "metadata": {},
   "outputs": [
    {
     "name": "stdout",
     "output_type": "stream",
     "text": [
      "Today is the first class of Python language\n"
     ]
    }
   ],
   "source": [
    "num = \"first\"\n",
    "language = \"Python\"\n",
    "print(\"Today is the \"+num+\" class of \"+language+\" language\")"
   ]
  },
  {
   "cell_type": "code",
   "execution_count": 110,
   "id": "12a2186f",
   "metadata": {},
   "outputs": [
    {
     "name": "stdout",
     "output_type": "stream",
     "text": [
      "I am Imteyaz\n"
     ]
    }
   ],
   "source": [
    "name = \"Imteyaz\"\n",
    "print(f\"I am {name}\")"
   ]
  },
  {
   "cell_type": "code",
   "execution_count": 111,
   "id": "7d3a5094",
   "metadata": {},
   "outputs": [
    {
     "name": "stdout",
     "output_type": "stream",
     "text": [
      "the result sum of two nums a: 22 and b: 34 is =56\n"
     ]
    }
   ],
   "source": [
    "a = 22\n",
    "b = 34\n",
    "c = a + b\n",
    "print(f\"the result sum of two nums a: {a} and b: {b} is ={c}\")"
   ]
  },
  {
   "cell_type": "code",
   "execution_count": 114,
   "id": "7d46556d",
   "metadata": {},
   "outputs": [
    {
     "name": "stdout",
     "output_type": "stream",
     "text": [
      "sum of two numbers a: 22 and b: 34 is =56\n"
     ]
    }
   ],
   "source": [
    "print(f\"sum of two numbers a: {a} and b: {b} is ={c}\")"
   ]
  },
  {
   "cell_type": "markdown",
   "id": "fe122026",
   "metadata": {},
   "source": [
    "# Boolean\n",
    "True False"
   ]
  },
  {
   "cell_type": "code",
   "execution_count": 116,
   "id": "1d1955fd",
   "metadata": {},
   "outputs": [
    {
     "name": "stdout",
     "output_type": "stream",
     "text": [
      "<class 'bool'>\n",
      "<class 'bool'>\n"
     ]
    }
   ],
   "source": [
    "one = True\n",
    "two = False\n",
    "\n",
    "print(type(one))\n",
    "print(type(two))"
   ]
  },
  {
   "cell_type": "code",
   "execution_count": 117,
   "id": "1ae43423",
   "metadata": {},
   "outputs": [
    {
     "name": "stdout",
     "output_type": "stream",
     "text": [
      "You understood everything?: True\n"
     ]
    }
   ],
   "source": [
    "class_starts_at = 3 \n",
    "you_came_at = 2\n",
    "you_understood_all_concepts = you_came_at < class_starts_at\n",
    "\n",
    "print(f\"You understood everything?: {you_understood_all_concepts}\")"
   ]
  },
  {
   "cell_type": "code",
   "execution_count": 118,
   "id": "c8daa8a8",
   "metadata": {},
   "outputs": [
    {
     "name": "stdout",
     "output_type": "stream",
     "text": [
      "You understood everything?: False\n"
     ]
    }
   ],
   "source": [
    "class_starts_at = 3 # class start at 3 PM\n",
    "you_came_at = 4 # you came to class at 4 PM\n",
    "you_understood_all_concepts = you_came_at < class_starts_at\n",
    "\n",
    "print(f\"You understood everything?: {you_understood_all_concepts}\")"
   ]
  },
  {
   "cell_type": "code",
   "execution_count": 119,
   "id": "63fd2aba",
   "metadata": {},
   "outputs": [
    {
     "data": {
      "text/plain": [
       "True"
      ]
     },
     "execution_count": 119,
     "metadata": {},
     "output_type": "execute_result"
    }
   ],
   "source": [
    "# = means assignment\n",
    "# == means comparing equality\n",
    "is_raining = False\n",
    "umbralla_available = False\n",
    "go_to_college = is_raining == umbralla_available # Cop\n",
    "go_to_college"
   ]
  },
  {
   "cell_type": "code",
   "execution_count": 123,
   "id": "76ac1d36",
   "metadata": {},
   "outputs": [
    {
     "data": {
      "text/plain": [
       "False"
      ]
     },
     "execution_count": 123,
     "metadata": {},
     "output_type": "execute_result"
    }
   ],
   "source": [
    "numA = 5\n",
    "numB = 6\n",
    "numA == numB"
   ]
  },
  {
   "cell_type": "code",
   "execution_count": 124,
   "id": "9ab481ba",
   "metadata": {},
   "outputs": [
    {
     "data": {
      "text/plain": [
       "True"
      ]
     },
     "execution_count": 124,
     "metadata": {},
     "output_type": "execute_result"
    }
   ],
   "source": [
    "numA = 5\n",
    "numB = 5\n",
    "numA == numB"
   ]
  },
  {
   "cell_type": "code",
   "execution_count": 125,
   "id": "197fd6d7",
   "metadata": {},
   "outputs": [
    {
     "data": {
      "text/plain": [
       "False"
      ]
     },
     "execution_count": 125,
     "metadata": {},
     "output_type": "execute_result"
    }
   ],
   "source": [
    "numA = 5\n",
    "numB = 5\n",
    "numA > numB"
   ]
  },
  {
   "cell_type": "code",
   "execution_count": 135,
   "id": "32820ab1",
   "metadata": {},
   "outputs": [
    {
     "data": {
      "text/plain": [
       "True"
      ]
     },
     "execution_count": 135,
     "metadata": {},
     "output_type": "execute_result"
    }
   ],
   "source": [
    "numA = 5\n",
    "numB = 5\n",
    "numA >= numB"
   ]
  },
  {
   "cell_type": "code",
   "execution_count": 141,
   "id": "a02c0ea3",
   "metadata": {},
   "outputs": [
    {
     "data": {
      "text/plain": [
       "'Sunny Bhaveen Chandra'"
      ]
     },
     "execution_count": 141,
     "metadata": {},
     "output_type": "execute_result"
    }
   ],
   "source": [
    "\"Sunny\" + \" Bhaveen \" + \"Chandra\""
   ]
  },
  {
   "cell_type": "code",
   "execution_count": 147,
   "id": "6991afee",
   "metadata": {},
   "outputs": [
    {
     "data": {
      "text/plain": [
       "'My name is \"Sunny\" Chandra'"
      ]
     },
     "execution_count": 147,
     "metadata": {},
     "output_type": "execute_result"
    }
   ],
   "source": [
    "\"My name is \\\"Sunny\\\" Chandra\""
   ]
  },
  {
   "cell_type": "code",
   "execution_count": 148,
   "id": "240c0458",
   "metadata": {},
   "outputs": [
    {
     "name": "stdout",
     "output_type": "stream",
     "text": [
      "\"\n"
     ]
    }
   ],
   "source": [
    "print(\"\\\"\")"
   ]
  },
  {
   "cell_type": "code",
   "execution_count": 149,
   "id": "1cc03d6a",
   "metadata": {},
   "outputs": [
    {
     "name": "stdout",
     "output_type": "stream",
     "text": [
      " \" \n"
     ]
    }
   ],
   "source": [
    "print(\"\"\" \" \"\"\")"
   ]
  },
  {
   "cell_type": "code",
   "execution_count": 145,
   "id": "b0aa3a31",
   "metadata": {},
   "outputs": [
    {
     "name": "stdout",
     "output_type": "stream",
     "text": [
      " / \n"
     ]
    }
   ],
   "source": [
    "print(\"\"\" / \"\"\")"
   ]
  },
  {
   "cell_type": "code",
   "execution_count": 146,
   "id": "06cf550a",
   "metadata": {},
   "outputs": [
    {
     "name": "stdout",
     "output_type": "stream",
     "text": [
      "My name is: Pallavi\n"
     ]
    }
   ],
   "source": [
    "name = \"Pallavi\"\n",
    "print(f\"My name is: {name}\")"
   ]
  },
  {
   "cell_type": "code",
   "execution_count": 150,
   "id": "7c2d9558",
   "metadata": {},
   "outputs": [
    {
     "name": "stdout",
     "output_type": "stream",
     "text": [
      "My name is: 1000\n"
     ]
    }
   ],
   "source": [
    "name = 1000\n",
    "print(f\"My name is: {name}\")"
   ]
  },
  {
   "cell_type": "code",
   "execution_count": 151,
   "id": "abae5c3c",
   "metadata": {},
   "outputs": [
    {
     "name": "stdout",
     "output_type": "stream",
     "text": [
      "sum = 9\n"
     ]
    }
   ],
   "source": [
    "a=2\n",
    "b = 3\n",
    "c = 4\n",
    "__result__ = a+b+c\n",
    "print(f\"sum = {__result__}\")"
   ]
  },
  {
   "cell_type": "code",
   "execution_count": 152,
   "id": "f3a1bf63",
   "metadata": {},
   "outputs": [],
   "source": [
    "z = 2+5j"
   ]
  },
  {
   "cell_type": "code",
   "execution_count": 153,
   "id": "34e219c3",
   "metadata": {},
   "outputs": [
    {
     "data": {
      "text/plain": [
       "2.0"
      ]
     },
     "execution_count": 153,
     "metadata": {},
     "output_type": "execute_result"
    }
   ],
   "source": [
    "z.real"
   ]
  },
  {
   "cell_type": "code",
   "execution_count": 154,
   "id": "d951a8aa",
   "metadata": {},
   "outputs": [
    {
     "data": {
      "text/plain": [
       "5.0"
      ]
     },
     "execution_count": 154,
     "metadata": {},
     "output_type": "execute_result"
    }
   ],
   "source": [
    "z.imag"
   ]
  },
  {
   "cell_type": "code",
   "execution_count": null,
   "id": "7500b63b",
   "metadata": {},
   "outputs": [],
   "source": []
  }
 ],
 "metadata": {
  "kernelspec": {
   "display_name": "Python 3",
   "language": "python",
   "name": "python3"
  },
  "language_info": {
   "codemirror_mode": {
    "name": "ipython",
    "version": 3
   },
   "file_extension": ".py",
   "mimetype": "text/x-python",
   "name": "python",
   "nbconvert_exporter": "python",
   "pygments_lexer": "ipython3",
   "version": "3.8.8"
  }
 },
 "nbformat": 4,
 "nbformat_minor": 5
}
