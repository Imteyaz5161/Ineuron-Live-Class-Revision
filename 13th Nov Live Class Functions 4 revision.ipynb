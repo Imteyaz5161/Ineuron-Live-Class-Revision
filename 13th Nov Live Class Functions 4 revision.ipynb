{
 "cells": [
  {
   "cell_type": "code",
   "execution_count": 45,
   "id": "71b9b09a",
   "metadata": {},
   "outputs": [],
   "source": [
    "def test1(func):\n",
    "    def test2():\n",
    "        print(\"i im inside test2\")\n",
    "        func()\n",
    "        print(func())\n",
    "        \n",
    "        print(\"function executed\")\n",
    "        return func()\n",
    "    return test2"
   ]
  },
  {
   "cell_type": "code",
   "execution_count": 46,
   "id": "ea7ee7e5",
   "metadata": {},
   "outputs": [],
   "source": [
    "@test1\n",
    "def test3():\n",
    "    print(\"this is my test3\")"
   ]
  },
  {
   "cell_type": "code",
   "execution_count": 47,
   "id": "2f8d1742",
   "metadata": {},
   "outputs": [
    {
     "name": "stdout",
     "output_type": "stream",
     "text": [
      "i im inside test2\n",
      "this is my test3\n",
      "this is my test3\n",
      "None\n",
      "function executed\n",
      "this is my test3\n"
     ]
    }
   ],
   "source": [
    "test3()"
   ]
  },
  {
   "cell_type": "code",
   "execution_count": 48,
   "id": "06d7ab74",
   "metadata": {},
   "outputs": [
    {
     "name": "stdout",
     "output_type": "stream",
     "text": [
      "i im inside test2\n",
      "this is my test3\n",
      "this is my test3\n",
      "None\n",
      "function executed\n",
      "this is my test3\n"
     ]
    },
    {
     "data": {
      "text/plain": [
       "<function __main__.test1.<locals>.test2()>"
      ]
     },
     "execution_count": 48,
     "metadata": {},
     "output_type": "execute_result"
    }
   ],
   "source": [
    "test1(test3())"
   ]
  },
  {
   "cell_type": "code",
   "execution_count": 51,
   "id": "50e79f2c",
   "metadata": {},
   "outputs": [],
   "source": [
    "@test1\n",
    "def test4():\n",
    "    return 5+6"
   ]
  },
  {
   "cell_type": "code",
   "execution_count": 55,
   "id": "72f40546",
   "metadata": {},
   "outputs": [
    {
     "name": "stdout",
     "output_type": "stream",
     "text": [
      "i im inside test2\n",
      "11\n",
      "function executed\n"
     ]
    },
    {
     "data": {
      "text/plain": [
       "11"
      ]
     },
     "execution_count": 55,
     "metadata": {},
     "output_type": "execute_result"
    }
   ],
   "source": [
    "test4()"
   ]
  },
  {
   "cell_type": "code",
   "execution_count": 52,
   "id": "bdc79200",
   "metadata": {},
   "outputs": [
    {
     "name": "stdout",
     "output_type": "stream",
     "text": [
      "i im inside test2\n",
      "11\n",
      "function executed\n"
     ]
    },
    {
     "data": {
      "text/plain": [
       "int"
      ]
     },
     "execution_count": 52,
     "metadata": {},
     "output_type": "execute_result"
    }
   ],
   "source": [
    "type(test4())"
   ]
  },
  {
   "cell_type": "code",
   "execution_count": 56,
   "id": "ccebf06b",
   "metadata": {},
   "outputs": [
    {
     "name": "stdout",
     "output_type": "stream",
     "text": [
      "i im inside test2\n",
      "11\n",
      "function executed\n"
     ]
    },
    {
     "data": {
      "text/plain": [
       "67"
      ]
     },
     "execution_count": 56,
     "metadata": {},
     "output_type": "execute_result"
    }
   ],
   "source": [
    "test4()+ 56"
   ]
  },
  {
   "cell_type": "code",
   "execution_count": 57,
   "id": "ce1b11f8",
   "metadata": {},
   "outputs": [
    {
     "name": "stdout",
     "output_type": "stream",
     "text": [
      "i im inside test2\n",
      "11\n",
      "function executed\n"
     ]
    }
   ],
   "source": [
    "a =test4()"
   ]
  },
  {
   "cell_type": "code",
   "execution_count": 58,
   "id": "7a1ef60a",
   "metadata": {},
   "outputs": [
    {
     "data": {
      "text/plain": [
       "11"
      ]
     },
     "execution_count": 58,
     "metadata": {},
     "output_type": "execute_result"
    }
   ],
   "source": [
    "a"
   ]
  },
  {
   "cell_type": "code",
   "execution_count": 59,
   "id": "8b546237",
   "metadata": {},
   "outputs": [
    {
     "name": "stdout",
     "output_type": "stream",
     "text": [
      "11\n"
     ]
    }
   ],
   "source": [
    "print(a)"
   ]
  },
  {
   "cell_type": "code",
   "execution_count": 60,
   "id": "0d36b5ee",
   "metadata": {},
   "outputs": [
    {
     "name": "stdout",
     "output_type": "stream",
     "text": [
      "i im inside test2\n",
      "11\n",
      "function executed\n"
     ]
    },
    {
     "data": {
      "text/plain": [
       "23"
      ]
     },
     "execution_count": 60,
     "metadata": {},
     "output_type": "execute_result"
    }
   ],
   "source": [
    "test4() + 12 "
   ]
  },
  {
   "cell_type": "code",
   "execution_count": 62,
   "id": "75ea33cd",
   "metadata": {},
   "outputs": [],
   "source": [
    "def test5():\n",
    "     return  4+5"
   ]
  },
  {
   "cell_type": "code",
   "execution_count": 63,
   "id": "69bdd265",
   "metadata": {},
   "outputs": [
    {
     "data": {
      "text/plain": [
       "int"
      ]
     },
     "execution_count": 63,
     "metadata": {},
     "output_type": "execute_result"
    }
   ],
   "source": [
    "type(test5())"
   ]
  },
  {
   "cell_type": "code",
   "execution_count": 64,
   "id": "07d67830",
   "metadata": {},
   "outputs": [
    {
     "data": {
      "text/plain": [
       "54"
      ]
     },
     "execution_count": 64,
     "metadata": {},
     "output_type": "execute_result"
    }
   ],
   "source": [
    "test5()+45"
   ]
  },
  {
   "cell_type": "code",
   "execution_count": 84,
   "id": "3e12fc53",
   "metadata": {},
   "outputs": [],
   "source": [
    "def test6(func):\n",
    "    def test7():\n",
    "        func()\n",
    "        print(func())\n",
    "        print(\"this is my decorador function\")\n",
    "        return func()\n",
    "    return test7"
   ]
  },
  {
   "cell_type": "code",
   "execution_count": 85,
   "id": "c0eda43d",
   "metadata": {},
   "outputs": [],
   "source": [
    "def test8():\n",
    "    return 5+7"
   ]
  },
  {
   "cell_type": "code",
   "execution_count": 86,
   "id": "3e135c00",
   "metadata": {},
   "outputs": [
    {
     "data": {
      "text/plain": [
       "24"
      ]
     },
     "execution_count": 86,
     "metadata": {},
     "output_type": "execute_result"
    }
   ],
   "source": [
    "test8()+12"
   ]
  },
  {
   "cell_type": "code",
   "execution_count": 87,
   "id": "bad12d33",
   "metadata": {},
   "outputs": [],
   "source": [
    "@test6\n",
    "def test8():\n",
    "    return 5+ 7"
   ]
  },
  {
   "cell_type": "code",
   "execution_count": 88,
   "id": "7a241afb",
   "metadata": {},
   "outputs": [
    {
     "name": "stdout",
     "output_type": "stream",
     "text": [
      "12\n",
      "this is my decorador function\n"
     ]
    },
    {
     "data": {
      "text/plain": [
       "int"
      ]
     },
     "execution_count": 88,
     "metadata": {},
     "output_type": "execute_result"
    }
   ],
   "source": [
    "type(test8())"
   ]
  },
  {
   "cell_type": "code",
   "execution_count": 89,
   "id": "7bed40cd",
   "metadata": {},
   "outputs": [
    {
     "name": "stdout",
     "output_type": "stream",
     "text": [
      "12\n",
      "this is my decorador function\n"
     ]
    },
    {
     "data": {
      "text/plain": [
       "112"
      ]
     },
     "execution_count": 89,
     "metadata": {},
     "output_type": "execute_result"
    }
   ],
   "source": [
    "test8()+100"
   ]
  },
  {
   "cell_type": "code",
   "execution_count": 116,
   "id": "3c3a4e82",
   "metadata": {},
   "outputs": [],
   "source": [
    "def test6(func):\n",
    "    def test7(*args, **kwargs):\n",
    "        func(*args,**kwargs)\n",
    "        print(func(*args,**kwargs))\n",
    "        print(\"this is my decorador function\")\n",
    "        return func(*args,**kwargs)\n",
    "    return test7"
   ]
  },
  {
   "cell_type": "code",
   "execution_count": 117,
   "id": "91bc92a4",
   "metadata": {},
   "outputs": [],
   "source": [
    "@test6\n",
    "def test8(a,b,c):\n",
    "    return a+b+c"
   ]
  },
  {
   "cell_type": "code",
   "execution_count": 118,
   "id": "157d2ddc",
   "metadata": {
    "scrolled": true
   },
   "outputs": [
    {
     "name": "stdout",
     "output_type": "stream",
     "text": [
      "sudhkumarsudh\n",
      "this is my decorador function\n"
     ]
    },
    {
     "data": {
      "text/plain": [
       "'sudhkumarsudh'"
      ]
     },
     "execution_count": 118,
     "metadata": {},
     "output_type": "execute_result"
    }
   ],
   "source": [
    "test8(\"sudh\",\"kumar\",\"sudh\")"
   ]
  },
  {
   "cell_type": "code",
   "execution_count": 126,
   "id": "c48cba44",
   "metadata": {},
   "outputs": [],
   "source": [
    "@test6\n",
    "def test9(**kwargs):\n",
    "    return kwargs"
   ]
  },
  {
   "cell_type": "code",
   "execution_count": 127,
   "id": "1280592a",
   "metadata": {},
   "outputs": [
    {
     "name": "stdout",
     "output_type": "stream",
     "text": [
      "{'a': 89, 'b': 67}\n",
      "this is my decorador function\n"
     ]
    },
    {
     "data": {
      "text/plain": [
       "{'a': 89, 'b': 67}"
      ]
     },
     "execution_count": 127,
     "metadata": {},
     "output_type": "execute_result"
    }
   ],
   "source": [
    "test9(a=89,b=67)"
   ]
  },
  {
   "cell_type": "code",
   "execution_count": 128,
   "id": "9e2bd484",
   "metadata": {},
   "outputs": [],
   "source": [
    "def test10(a,b):\n",
    "    return a+b"
   ]
  },
  {
   "cell_type": "code",
   "execution_count": 129,
   "id": "894a954e",
   "metadata": {},
   "outputs": [
    {
     "data": {
      "text/plain": [
       "7"
      ]
     },
     "execution_count": 129,
     "metadata": {},
     "output_type": "execute_result"
    }
   ],
   "source": [
    "test10(3,4)"
   ]
  },
  {
   "cell_type": "code",
   "execution_count": 136,
   "id": "63c0a8a3",
   "metadata": {},
   "outputs": [
    {
     "data": {
      "text/plain": [
       "'sudh ineuron'"
      ]
     },
     "execution_count": 136,
     "metadata": {},
     "output_type": "execute_result"
    }
   ],
   "source": [
    "test10(\"sudh\",\" ineuron\")"
   ]
  },
  {
   "cell_type": "code",
   "execution_count": 138,
   "id": "78625be0",
   "metadata": {},
   "outputs": [],
   "source": [
    "c=lambda a,b:a+b"
   ]
  },
  {
   "cell_type": "code",
   "execution_count": 139,
   "id": "4faf8b07",
   "metadata": {},
   "outputs": [
    {
     "data": {
      "text/plain": [
       "<function __main__.test10(a, b)>"
      ]
     },
     "execution_count": 139,
     "metadata": {},
     "output_type": "execute_result"
    }
   ],
   "source": [
    "test10"
   ]
  },
  {
   "cell_type": "code",
   "execution_count": 140,
   "id": "5c30d330",
   "metadata": {},
   "outputs": [
    {
     "data": {
      "text/plain": [
       "'sudh ineuron'"
      ]
     },
     "execution_count": 140,
     "metadata": {},
     "output_type": "execute_result"
    }
   ],
   "source": [
    "c(\"sudh\", \" ineuron\")"
   ]
  },
  {
   "cell_type": "code",
   "execution_count": 141,
   "id": "acc8904b",
   "metadata": {},
   "outputs": [],
   "source": [
    "d= lambda a,b,c,d:a*b+c/d"
   ]
  },
  {
   "cell_type": "code",
   "execution_count": 142,
   "id": "1cef4031",
   "metadata": {},
   "outputs": [
    {
     "data": {
      "text/plain": [
       "12.833333333333334"
      ]
     },
     "execution_count": 142,
     "metadata": {},
     "output_type": "execute_result"
    }
   ],
   "source": [
    "d(3,4,5,6)"
   ]
  },
  {
   "cell_type": "code",
   "execution_count": 143,
   "id": "d2daac55",
   "metadata": {},
   "outputs": [],
   "source": [
    "e= lambda *args : args"
   ]
  },
  {
   "cell_type": "code",
   "execution_count": 144,
   "id": "31e2583a",
   "metadata": {},
   "outputs": [
    {
     "data": {
      "text/plain": [
       "()"
      ]
     },
     "execution_count": 144,
     "metadata": {},
     "output_type": "execute_result"
    }
   ],
   "source": [
    "e()"
   ]
  },
  {
   "cell_type": "code",
   "execution_count": 145,
   "id": "6459c9dc",
   "metadata": {},
   "outputs": [
    {
     "data": {
      "text/plain": [
       "(3, 4, 5)"
      ]
     },
     "execution_count": 145,
     "metadata": {},
     "output_type": "execute_result"
    }
   ],
   "source": [
    "e(3,4,5)"
   ]
  },
  {
   "cell_type": "code",
   "execution_count": 146,
   "id": "68e2ab50",
   "metadata": {},
   "outputs": [],
   "source": [
    "#map()"
   ]
  },
  {
   "cell_type": "code",
   "execution_count": 164,
   "id": "e8f4300e",
   "metadata": {},
   "outputs": [],
   "source": [
    "l = (1,2,3,4,5,6,7)\n",
    "l1 = []\n",
    "for i in l:\n",
    "    l1.append(i+10)"
   ]
  },
  {
   "cell_type": "code",
   "execution_count": 165,
   "id": "db95364e",
   "metadata": {},
   "outputs": [
    {
     "data": {
      "text/plain": [
       "[11, 12, 13, 14, 15, 16, 17]"
      ]
     },
     "execution_count": 165,
     "metadata": {},
     "output_type": "execute_result"
    }
   ],
   "source": [
    "l1"
   ]
  },
  {
   "cell_type": "code",
   "execution_count": 166,
   "id": "46b5e5ff",
   "metadata": {},
   "outputs": [],
   "source": [
    "def test14(a):\n",
    "    return a+10"
   ]
  },
  {
   "cell_type": "code",
   "execution_count": 167,
   "id": "b0fbf776",
   "metadata": {},
   "outputs": [
    {
     "data": {
      "text/plain": [
       "[11, 12, 13, 14, 15, 16, 17]"
      ]
     },
     "execution_count": 167,
     "metadata": {},
     "output_type": "execute_result"
    }
   ],
   "source": [
    "list(map( test14,l))"
   ]
  },
  {
   "cell_type": "code",
   "execution_count": 169,
   "id": "98c79b69",
   "metadata": {},
   "outputs": [
    {
     "data": {
      "text/plain": [
       "[11, 12, 13, 14, 15, 16, 17]"
      ]
     },
     "execution_count": 169,
     "metadata": {},
     "output_type": "execute_result"
    }
   ],
   "source": [
    "list(map(lambda a:a+10,l))"
   ]
  },
  {
   "cell_type": "code",
   "execution_count": 170,
   "id": "7be7b942",
   "metadata": {},
   "outputs": [],
   "source": [
    "n=lambda a:a+10"
   ]
  },
  {
   "cell_type": "code",
   "execution_count": 171,
   "id": "9952d6da",
   "metadata": {},
   "outputs": [
    {
     "data": {
      "text/plain": [
       "[11, 12, 13, 14, 15, 16, 17]"
      ]
     },
     "execution_count": 171,
     "metadata": {},
     "output_type": "execute_result"
    }
   ],
   "source": [
    "list(map(n,l))"
   ]
  },
  {
   "cell_type": "code",
   "execution_count": 172,
   "id": "987ac73c",
   "metadata": {},
   "outputs": [],
   "source": [
    "l =[\"sudh\",\"kumar\",\"ineuron\"]"
   ]
  },
  {
   "cell_type": "code",
   "execution_count": 173,
   "id": "0cd6b16e",
   "metadata": {},
   "outputs": [],
   "source": [
    "l1=[]\n",
    "for i in l:\n",
    "    l1.append(i.upper())"
   ]
  },
  {
   "cell_type": "code",
   "execution_count": 174,
   "id": "9c8a0baa",
   "metadata": {},
   "outputs": [
    {
     "data": {
      "text/plain": [
       "['SUDH', 'KUMAR', 'INEURON']"
      ]
     },
     "execution_count": 174,
     "metadata": {},
     "output_type": "execute_result"
    }
   ],
   "source": [
    "l1"
   ]
  },
  {
   "cell_type": "code",
   "execution_count": 175,
   "id": "d37ff25d",
   "metadata": {},
   "outputs": [
    {
     "data": {
      "text/plain": [
       "['SUDH', 'KUMAR', 'INEURON']"
      ]
     },
     "execution_count": 175,
     "metadata": {},
     "output_type": "execute_result"
    }
   ],
   "source": [
    "list(map(lambda a:a.upper(),l))"
   ]
  },
  {
   "cell_type": "code",
   "execution_count": 176,
   "id": "19886e10",
   "metadata": {},
   "outputs": [],
   "source": [
    "def upper_string(a):\n",
    "    return a.upper()"
   ]
  },
  {
   "cell_type": "code",
   "execution_count": 177,
   "id": "53f1e698",
   "metadata": {},
   "outputs": [
    {
     "data": {
      "text/plain": [
       "['SUDH', 'KUMAR', 'INEURON']"
      ]
     },
     "execution_count": 177,
     "metadata": {},
     "output_type": "execute_result"
    }
   ],
   "source": [
    "list(map(upper_string,l))"
   ]
  },
  {
   "cell_type": "code",
   "execution_count": 178,
   "id": "0e36b3a0",
   "metadata": {},
   "outputs": [
    {
     "data": {
      "text/plain": [
       "['sudh', 'kumar', 'ineuron']"
      ]
     },
     "execution_count": 178,
     "metadata": {},
     "output_type": "execute_result"
    }
   ],
   "source": [
    "l"
   ]
  },
  {
   "cell_type": "code",
   "execution_count": 180,
   "id": "361d42ee",
   "metadata": {},
   "outputs": [
    {
     "data": {
      "text/plain": [
       "[4, 5, 7]"
      ]
     },
     "execution_count": 180,
     "metadata": {},
     "output_type": "execute_result"
    }
   ],
   "source": [
    "list(map(len,l))"
   ]
  },
  {
   "cell_type": "code",
   "execution_count": 181,
   "id": "30a6ac89",
   "metadata": {},
   "outputs": [
    {
     "data": {
      "text/plain": [
       "[4, 5, 7]"
      ]
     },
     "execution_count": 181,
     "metadata": {},
     "output_type": "execute_result"
    }
   ],
   "source": [
    "list(map(lambda a:len(a),l))"
   ]
  },
  {
   "cell_type": "code",
   "execution_count": 183,
   "id": "cea96fcb",
   "metadata": {},
   "outputs": [],
   "source": [
    "def test23(a):\n",
    "    return len(a)"
   ]
  },
  {
   "cell_type": "code",
   "execution_count": 184,
   "id": "b2e7d58a",
   "metadata": {},
   "outputs": [
    {
     "data": {
      "text/plain": [
       "[4, 5, 7]"
      ]
     },
     "execution_count": 184,
     "metadata": {},
     "output_type": "execute_result"
    }
   ],
   "source": [
    "list(map(test23,l))"
   ]
  },
  {
   "cell_type": "code",
   "execution_count": 186,
   "id": "8e0f3b34",
   "metadata": {},
   "outputs": [],
   "source": [
    "l=[1,2,3,4,5,6,7,8]"
   ]
  },
  {
   "cell_type": "code",
   "execution_count": 189,
   "id": "25d86181",
   "metadata": {},
   "outputs": [],
   "source": [
    "l1=[]\n",
    "for i in l: \n",
    "    if i%2 ==0:\n",
    "        l1.append(i)"
   ]
  },
  {
   "cell_type": "code",
   "execution_count": 190,
   "id": "c852e4cb",
   "metadata": {},
   "outputs": [
    {
     "data": {
      "text/plain": [
       "[2, 4, 6, 8]"
      ]
     },
     "execution_count": 190,
     "metadata": {},
     "output_type": "execute_result"
    }
   ],
   "source": [
    "l1"
   ]
  },
  {
   "cell_type": "code",
   "execution_count": 191,
   "id": "017c2292",
   "metadata": {},
   "outputs": [
    {
     "data": {
      "text/plain": [
       "[2, 4, 6, 8]"
      ]
     },
     "execution_count": 191,
     "metadata": {},
     "output_type": "execute_result"
    }
   ],
   "source": [
    "[i for i in l if i%2==0]"
   ]
  },
  {
   "cell_type": "code",
   "execution_count": 192,
   "id": "f765167d",
   "metadata": {},
   "outputs": [],
   "source": [
    "def test24(a): \n",
    "    l=[]\n",
    "    if type(a)==list:\n",
    "        for i in a: \n",
    "            if i%2==0:\n",
    "                l.append(i) \n",
    "    return l"
   ]
  },
  {
   "cell_type": "code",
   "execution_count": 193,
   "id": "299e82ac",
   "metadata": {},
   "outputs": [
    {
     "data": {
      "text/plain": [
       "[2, 4, 6, 8]"
      ]
     },
     "execution_count": 193,
     "metadata": {},
     "output_type": "execute_result"
    }
   ],
   "source": [
    "test24(l)"
   ]
  },
  {
   "cell_type": "code",
   "execution_count": 196,
   "id": "e7c7ac40",
   "metadata": {},
   "outputs": [],
   "source": [
    "a= lambda a:a if  a%2 ==0 else None"
   ]
  },
  {
   "cell_type": "code",
   "execution_count": 197,
   "id": "8c7bb030",
   "metadata": {},
   "outputs": [
    {
     "data": {
      "text/plain": [
       "[None, 2, None, 4, None, 6, None, 8]"
      ]
     },
     "execution_count": 197,
     "metadata": {},
     "output_type": "execute_result"
    }
   ],
   "source": [
    "list(map(a,l))"
   ]
  },
  {
   "cell_type": "code",
   "execution_count": 198,
   "id": "3ae96de1",
   "metadata": {},
   "outputs": [
    {
     "data": {
      "text/plain": [
       "[1, 2, 3, 4, 5, 6, 7, 8]"
      ]
     },
     "execution_count": 198,
     "metadata": {},
     "output_type": "execute_result"
    }
   ],
   "source": [
    "l"
   ]
  },
  {
   "cell_type": "code",
   "execution_count": 199,
   "id": "75d97c54",
   "metadata": {},
   "outputs": [
    {
     "data": {
      "text/plain": [
       "[2, 4, 6, 8]"
      ]
     },
     "execution_count": 199,
     "metadata": {},
     "output_type": "execute_result"
    }
   ],
   "source": [
    "list(filter(a,l))"
   ]
  },
  {
   "cell_type": "code",
   "execution_count": 204,
   "id": "c4b41e93",
   "metadata": {},
   "outputs": [],
   "source": [
    "def test25(a):\n",
    "    if a%2 ==0:\n",
    "        return False\n",
    "    else:\n",
    "        return True"
   ]
  },
  {
   "cell_type": "code",
   "execution_count": 205,
   "id": "17829cd1",
   "metadata": {},
   "outputs": [
    {
     "data": {
      "text/plain": [
       "False"
      ]
     },
     "execution_count": 205,
     "metadata": {},
     "output_type": "execute_result"
    }
   ],
   "source": [
    "test25(32)"
   ]
  },
  {
   "cell_type": "code",
   "execution_count": 206,
   "id": "9a40481e",
   "metadata": {},
   "outputs": [
    {
     "data": {
      "text/plain": [
       "True"
      ]
     },
     "execution_count": 206,
     "metadata": {},
     "output_type": "execute_result"
    }
   ],
   "source": [
    "test25(35)"
   ]
  },
  {
   "cell_type": "code",
   "execution_count": 207,
   "id": "c1964942",
   "metadata": {},
   "outputs": [
    {
     "data": {
      "text/plain": [
       "[1, 3, 5, 7]"
      ]
     },
     "execution_count": 207,
     "metadata": {},
     "output_type": "execute_result"
    }
   ],
   "source": [
    "list(filter(test25,l))"
   ]
  },
  {
   "cell_type": "code",
   "execution_count": 208,
   "id": "72ee10c4",
   "metadata": {},
   "outputs": [
    {
     "data": {
      "text/plain": [
       "[1, 2, 3, 4, 5, 6, 7, 8]"
      ]
     },
     "execution_count": 208,
     "metadata": {},
     "output_type": "execute_result"
    }
   ],
   "source": [
    "l"
   ]
  },
  {
   "cell_type": "code",
   "execution_count": 209,
   "id": "58ba61ae",
   "metadata": {},
   "outputs": [
    {
     "data": {
      "text/plain": [
       "[1, 2, 3, 4, 5, 6, 7, 8]"
      ]
     },
     "execution_count": 209,
     "metadata": {},
     "output_type": "execute_result"
    }
   ],
   "source": [
    "l"
   ]
  },
  {
   "cell_type": "code",
   "execution_count": 210,
   "id": "e30e16ca",
   "metadata": {},
   "outputs": [
    {
     "data": {
      "text/plain": [
       "36"
      ]
     },
     "execution_count": 210,
     "metadata": {},
     "output_type": "execute_result"
    }
   ],
   "source": [
    "sum(l)"
   ]
  },
  {
   "cell_type": "code",
   "execution_count": 212,
   "id": "c42f2f15",
   "metadata": {},
   "outputs": [],
   "source": [
    "from functools import reduce"
   ]
  },
  {
   "cell_type": "code",
   "execution_count": 214,
   "id": "52c0faf9",
   "metadata": {},
   "outputs": [
    {
     "data": {
      "text/plain": [
       "40320"
      ]
     },
     "execution_count": 214,
     "metadata": {},
     "output_type": "execute_result"
    }
   ],
   "source": [
    "reduce(lambda a,b:a*b,l)"
   ]
  },
  {
   "cell_type": "code",
   "execution_count": 219,
   "id": "aa16d61f",
   "metadata": {},
   "outputs": [
    {
     "data": {
      "text/plain": [
       "3"
      ]
     },
     "execution_count": 219,
     "metadata": {},
     "output_type": "execute_result"
    }
   ],
   "source": [
    "l1=[3]\n",
    "reduce(lambda a,b:a*b,l1)"
   ]
  },
  {
   "cell_type": "code",
   "execution_count": 224,
   "id": "fdb01dda",
   "metadata": {},
   "outputs": [],
   "source": [
    "def test26(a:int ,b:\"func\",c =234) ->int:\n",
    "    '''this is my doc string to give a hint to next programmar'''\n",
    "    return a+b+str(c)"
   ]
  },
  {
   "cell_type": "code",
   "execution_count": 227,
   "id": "0603ad20",
   "metadata": {},
   "outputs": [
    {
     "data": {
      "text/plain": [
       "'sudhkumar345'"
      ]
     },
     "execution_count": 227,
     "metadata": {},
     "output_type": "execute_result"
    }
   ],
   "source": [
    "test26(\"sudh\",\"kumar\", 345)"
   ]
  },
  {
   "cell_type": "code",
   "execution_count": null,
   "id": "ba5b6d18",
   "metadata": {},
   "outputs": [],
   "source": []
  },
  {
   "cell_type": "code",
   "execution_count": null,
   "id": "3564689a",
   "metadata": {},
   "outputs": [],
   "source": []
  }
 ],
 "metadata": {
  "kernelspec": {
   "display_name": "Python 3",
   "language": "python",
   "name": "python3"
  },
  "language_info": {
   "codemirror_mode": {
    "name": "ipython",
    "version": 3
   },
   "file_extension": ".py",
   "mimetype": "text/x-python",
   "name": "python",
   "nbconvert_exporter": "python",
   "pygments_lexer": "ipython3",
   "version": "3.8.8"
  }
 },
 "nbformat": 4,
 "nbformat_minor": 5
}
